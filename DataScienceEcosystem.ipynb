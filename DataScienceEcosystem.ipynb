{
  "nbformat": 4,
  "nbformat_minor": 0,
  "metadata": {
    "colab": {
      "provenance": []
    },
    "kernelspec": {
      "name": "python3",
      "display_name": "Python 3"
    },
    "language_info": {
      "name": "python"
    }
  },
  "cells": [
    {
      "cell_type": "markdown",
      "source": [
        "# Data Science Tools and Ecosystem"
      ],
      "metadata": {
        "id": "vtgbFwGk95H8"
      }
    },
    {
      "cell_type": "markdown",
      "source": [
        "##Autor:\n",
        "Diego Montero San Martín"
      ],
      "metadata": {
        "id": "G1N03XLoCLVk"
      }
    },
    {
      "cell_type": "markdown",
      "source": [
        "En este cuaderno, se resumen las herramientas y ecosistemas de ciencia de datos."
      ],
      "metadata": {
        "id": "hEDNF9fs-ZcV"
      }
    },
    {
      "cell_type": "markdown",
      "source": [
        "Objetivos:\n",
        "- Conocer algunos de los lenguajes más populares para ciencia de datos\n",
        "- Conocer algunas de las bibliotecas más usadas en Python para ciencia de datos\n",
        "- Conocer algunas herramientas empleadas en ciencia de datos\n",
        "- Realizar algunos pequeños códigos de prueba"
      ],
      "metadata": {
        "id": "3B-YLQ1iBm_t"
      }
    },
    {
      "cell_type": "markdown",
      "source": [
        "Algunos de los lenguajes populares que utilizan los científicos de datos son:\n",
        "1. Python\n",
        "2. R\n",
        "3. Scala"
      ],
      "metadata": {
        "id": "mLPwstIF-wP0"
      }
    },
    {
      "cell_type": "markdown",
      "source": [
        "Algunas de las bibliotecas comúnmente utilizadas por los científicos de datos incluyen:\n",
        "1. Pandas\n",
        "2. Seaborn\n",
        "3. Numpy"
      ],
      "metadata": {
        "id": "9C3qm1Tv_MgT"
      }
    },
    {
      "cell_type": "markdown",
      "source": [
        "|Herramientas de Ciencia de datos|\n",
        "|--------------------------------|\n",
        "|MySQL                           |\n",
        "|Apache Spark                    |\n",
        "|Jupyter Notebooks               |"
      ],
      "metadata": {
        "id": "ktpn16ND_u2s"
      }
    },
    {
      "cell_type": "markdown",
      "source": [
        "### A continuación, se presentan algunos ejemplos de evaluación de expresiones aritméticas en Python:"
      ],
      "metadata": {
        "id": "l8RDkvGRAt6G"
      }
    },
    {
      "cell_type": "code",
      "source": [
        "(3*4)+5"
      ],
      "metadata": {
        "colab": {
          "base_uri": "https://localhost:8080/"
        },
        "id": "T8xoKIsXBA8c",
        "outputId": "415b501d-3b08-42f1-aa2f-2e40affba7ec"
      },
      "execution_count": 1,
      "outputs": [
        {
          "output_type": "execute_result",
          "data": {
            "text/plain": [
              "17"
            ]
          },
          "metadata": {},
          "execution_count": 1
        }
      ]
    },
    {
      "cell_type": "code",
      "source": [
        "min = 200\n",
        "hr= min/60\n",
        "print (hr)"
      ],
      "metadata": {
        "colab": {
          "base_uri": "https://localhost:8080/"
        },
        "id": "8GW0I8IjBP5l",
        "outputId": "e3b5941f-245a-4960-d16c-c02ba55ee90c"
      },
      "execution_count": 2,
      "outputs": [
        {
          "output_type": "stream",
          "name": "stdout",
          "text": [
            "3.3333333333333335\n"
          ]
        }
      ]
    }
  ]
}